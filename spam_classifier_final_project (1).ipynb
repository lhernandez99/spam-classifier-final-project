{
 "cells": [
  {
   "cell_type": "markdown",
   "id": "b6085151-48b4-4abd-b904-76d476f6627a",
   "metadata": {},
   "source": [
    "# Supervised Learning Final Project: SMS Spam Detection\r\n",
    "\r\n",
    "**Goal:** Classify SMS messages as \"spam\" or \"ham\" using supervised machine learning.  \r\n",
    "This is important for filtering unwanted messages in communication platforms.\r\n",
    "\r\n",
    "We will:\r\n",
    "- Explore the dataset\r\n",
    "- Clean and preprocess the text\r\n",
    "- Train 3 different models\r\n",
    "- Evaluate performance using accuracy, precision, recall, and F1-score\r\n"
   ]
  },
  {
   "cell_type": "markdown",
   "id": "7f2f7266-2caa-4eeb-92b7-4bd096372d20",
   "metadata": {},
   "source": [
    "### Load and Preview the Dataset\r\n",
    "We load the SMS dataset from a `.tsv` file and view the first few rows to understand the structure. The dataset includes labeled messages that are either \"spam\" or \"ham\" (not spam).\r\n"
   ]
  },
  {
   "cell_type": "markdown",
   "id": "a6cda4d5-dd6b-4518-a36e-d2faab653cb3",
   "metadata": {},
   "source": [
    "### Dataset Source & Ethical Use\n",
    "This dataset is from the UCI Machine Learning Repository: [SMS Spam Collection](https://archive.ics.uci.edu/ml/datasets/sms+spam+collection)  \n",
    "The data is publicly available for academic use and contains no personally identifiable information (PII).\n"
   ]
  },
  {
   "cell_type": "code",
   "execution_count": 4,
   "id": "8b80f2b6-4c4a-406d-ae64-579ab58032ea",
   "metadata": {},
   "outputs": [
    {
     "data": {
      "text/html": [
       "<div>\n",
       "<style scoped>\n",
       "    .dataframe tbody tr th:only-of-type {\n",
       "        vertical-align: middle;\n",
       "    }\n",
       "\n",
       "    .dataframe tbody tr th {\n",
       "        vertical-align: top;\n",
       "    }\n",
       "\n",
       "    .dataframe thead th {\n",
       "        text-align: right;\n",
       "    }\n",
       "</style>\n",
       "<table border=\"1\" class=\"dataframe\">\n",
       "  <thead>\n",
       "    <tr style=\"text-align: right;\">\n",
       "      <th></th>\n",
       "      <th>label</th>\n",
       "      <th>message</th>\n",
       "    </tr>\n",
       "  </thead>\n",
       "  <tbody>\n",
       "    <tr>\n",
       "      <th>0</th>\n",
       "      <td>ham</td>\n",
       "      <td>Go until jurong point, crazy.. Available only ...</td>\n",
       "    </tr>\n",
       "    <tr>\n",
       "      <th>1</th>\n",
       "      <td>ham</td>\n",
       "      <td>Ok lar... Joking wif u oni...</td>\n",
       "    </tr>\n",
       "    <tr>\n",
       "      <th>2</th>\n",
       "      <td>spam</td>\n",
       "      <td>Free entry in 2 a wkly comp to win FA Cup fina...</td>\n",
       "    </tr>\n",
       "    <tr>\n",
       "      <th>3</th>\n",
       "      <td>ham</td>\n",
       "      <td>U dun say so early hor... U c already then say...</td>\n",
       "    </tr>\n",
       "    <tr>\n",
       "      <th>4</th>\n",
       "      <td>ham</td>\n",
       "      <td>Nah I don't think he goes to usf, he lives aro...</td>\n",
       "    </tr>\n",
       "  </tbody>\n",
       "</table>\n",
       "</div>"
      ],
      "text/plain": [
       "  label                                            message\n",
       "0   ham  Go until jurong point, crazy.. Available only ...\n",
       "1   ham                      Ok lar... Joking wif u oni...\n",
       "2  spam  Free entry in 2 a wkly comp to win FA Cup fina...\n",
       "3   ham  U dun say so early hor... U c already then say...\n",
       "4   ham  Nah I don't think he goes to usf, he lives aro..."
      ]
     },
     "execution_count": 4,
     "metadata": {},
     "output_type": "execute_result"
    }
   ],
   "source": [
    "import pandas as pd\n",
    "\n",
    "# Load the dataset\n",
    "df = pd.read_csv(\"sms.tsv\", sep=\"\\t\", names=[\"label\", \"message\"])\n",
    "\n",
    "# Quick preview\n",
    "df.head()\n"
   ]
  },
  {
   "cell_type": "markdown",
   "id": "7463b7b7-c1de-402b-9602-d7ce6cc8d995",
   "metadata": {},
   "source": [
    "### Preprocessing\r\n",
    "We clean the SMS messages to improve model performance. This includes:\r\n",
    "- Converting text to lowercase\r\n",
    "- Removing punctuation\r\n",
    "- Removing numbers\r\n",
    "\r\n",
    "These steps help reduce noise in the data.\r\n"
   ]
  },
  {
   "cell_type": "code",
   "execution_count": 7,
   "id": "03dabce3-b659-4aa1-ba1e-051680c7c4a0",
   "metadata": {},
   "outputs": [
    {
     "data": {
      "text/html": [
       "<div>\n",
       "<style scoped>\n",
       "    .dataframe tbody tr th:only-of-type {\n",
       "        vertical-align: middle;\n",
       "    }\n",
       "\n",
       "    .dataframe tbody tr th {\n",
       "        vertical-align: top;\n",
       "    }\n",
       "\n",
       "    .dataframe thead th {\n",
       "        text-align: right;\n",
       "    }\n",
       "</style>\n",
       "<table border=\"1\" class=\"dataframe\">\n",
       "  <thead>\n",
       "    <tr style=\"text-align: right;\">\n",
       "      <th></th>\n",
       "      <th>message</th>\n",
       "      <th>clean_message</th>\n",
       "    </tr>\n",
       "  </thead>\n",
       "  <tbody>\n",
       "    <tr>\n",
       "      <th>0</th>\n",
       "      <td>Go until jurong point, crazy.. Available only ...</td>\n",
       "      <td>go until jurong point crazy available only in ...</td>\n",
       "    </tr>\n",
       "    <tr>\n",
       "      <th>1</th>\n",
       "      <td>Ok lar... Joking wif u oni...</td>\n",
       "      <td>ok lar joking wif u oni</td>\n",
       "    </tr>\n",
       "    <tr>\n",
       "      <th>2</th>\n",
       "      <td>Free entry in 2 a wkly comp to win FA Cup fina...</td>\n",
       "      <td>free entry in  a wkly comp to win fa cup final...</td>\n",
       "    </tr>\n",
       "    <tr>\n",
       "      <th>3</th>\n",
       "      <td>U dun say so early hor... U c already then say...</td>\n",
       "      <td>u dun say so early hor u c already then say</td>\n",
       "    </tr>\n",
       "    <tr>\n",
       "      <th>4</th>\n",
       "      <td>Nah I don't think he goes to usf, he lives aro...</td>\n",
       "      <td>nah i dont think he goes to usf he lives aroun...</td>\n",
       "    </tr>\n",
       "  </tbody>\n",
       "</table>\n",
       "</div>"
      ],
      "text/plain": [
       "                                             message  \\\n",
       "0  Go until jurong point, crazy.. Available only ...   \n",
       "1                      Ok lar... Joking wif u oni...   \n",
       "2  Free entry in 2 a wkly comp to win FA Cup fina...   \n",
       "3  U dun say so early hor... U c already then say...   \n",
       "4  Nah I don't think he goes to usf, he lives aro...   \n",
       "\n",
       "                                       clean_message  \n",
       "0  go until jurong point crazy available only in ...  \n",
       "1                            ok lar joking wif u oni  \n",
       "2  free entry in  a wkly comp to win fa cup final...  \n",
       "3        u dun say so early hor u c already then say  \n",
       "4  nah i dont think he goes to usf he lives aroun...  "
      ]
     },
     "execution_count": 7,
     "metadata": {},
     "output_type": "execute_result"
    }
   ],
   "source": [
    "import string\n",
    "import re\n",
    "\n",
    "def preprocess_text(text):\n",
    "    # Lowercase\n",
    "    text = text.lower()\n",
    "    # Remove punctuation\n",
    "    text = text.translate(str.maketrans(\"\", \"\", string.punctuation))\n",
    "    # Remove numbers\n",
    "    text = re.sub(r'\\d+', '', text)\n",
    "    return text\n",
    "\n",
    "# Apply to the message column\n",
    "df[\"clean_message\"] = df[\"message\"].apply(preprocess_text)\n",
    "\n",
    "# Preview cleaned messages\n",
    "df[[\"message\", \"clean_message\"]].head()\n"
   ]
  },
  {
   "cell_type": "code",
   "execution_count": 27,
   "id": "80946dcb-506d-4bf1-baab-c207d71acc38",
   "metadata": {},
   "outputs": [
    {
     "name": "stdout",
     "output_type": "stream",
     "text": [
      "Missing messages: 0\n",
      "Empty messages after cleaning: 3\n"
     ]
    }
   ],
   "source": [
    "# Check for missing or empty messages\n",
    "print(\"Missing messages:\", df['message'].isnull().sum())\n",
    "print(\"Empty messages after cleaning:\", (df['clean_message'].str.strip() == '').sum())\n"
   ]
  },
  {
   "cell_type": "markdown",
   "id": "a9b481dd-7440-4f24-8d88-c6a21df5569a",
   "metadata": {},
   "source": [
    "### Exploratory Data Analysis (EDA)\n",
    "We visualize the distribution of ham vs spam messages. Most messages are labeled \"ham\", indicating class imbalance. This may impact model performance.\r\n"
   ]
  },
  {
   "cell_type": "code",
   "execution_count": 10,
   "id": "04b0dd87-a479-40d2-bbbf-90c1b2dea6d3",
   "metadata": {},
   "outputs": [
    {
     "data": {
      "image/png": "[encoded data removed]",
      "text/plain": [
       "<Figure size 640x480 with 1 Axes>"
      ]
     },
     "metadata": {},
     "output_type": "display_data"
    },
    {
     "data": {
      "image/png": "[encoded data removed]",
      "text/plain": [
       "<Figure size 640x480 with 1 Axes>"
      ]
     },
     "metadata": {},
     "output_type": "display_data"
    }
   ],
   "source": [
    "import matplotlib.pyplot as plt\n",
    "import seaborn as sns\n",
    "\n",
    "sns.countplot(x='label', data=df)\n",
    "plt.title('Distribution of Ham and Spam Messages')\n",
    "plt.show()\n",
    "\n",
    "df['length'] = df['message'].apply(len)\n",
    "sns.histplot(data=df, x='length', hue='label', bins=50, kde=True)\n",
    "plt.title('Message Length by Label')\n",
    "plt.show()\n"
   ]
  },
  {
   "cell_type": "code",
   "execution_count": 38,
   "id": "48b5edbf-f8b2-438a-9d9e-1e606626e603",
   "metadata": {},
   "outputs": [
    {
     "data": {
      "image/png": "[encoded data removed]",
      "text/plain": [
       "<Figure size 640x480 with 1 Axes>"
      ]
     },
     "metadata": {},
     "output_type": "display_data"
    }
   ],
   "source": [
    "# Boxplot of message lengths by label\n",
    "sns.boxplot(x='label', y='length', data=df)\n",
    "plt.title(\"Message Length Distribution by Label (Boxplot)\")\n",
    "plt.show()\n"
   ]
  },
  {
   "cell_type": "code",
   "execution_count": 29,
   "id": "95c5cd65-6e62-4f71-b251-15fa211ba7c6",
   "metadata": {},
   "outputs": [
    {
     "name": "stdout",
     "output_type": "stream",
     "text": [
      "Longest message length: 910\n",
      "Shortest message length: 2\n"
     ]
    },
    {
     "data": {
      "text/html": [
       "<div>\n",
       "<style scoped>\n",
       "    .dataframe tbody tr th:only-of-type {\n",
       "        vertical-align: middle;\n",
       "    }\n",
       "\n",
       "    .dataframe tbody tr th {\n",
       "        vertical-align: top;\n",
       "    }\n",
       "\n",
       "    .dataframe thead th {\n",
       "        text-align: right;\n",
       "    }\n",
       "</style>\n",
       "<table border=\"1\" class=\"dataframe\">\n",
       "  <thead>\n",
       "    <tr style=\"text-align: right;\">\n",
       "      <th></th>\n",
       "      <th>label</th>\n",
       "      <th>message</th>\n",
       "    </tr>\n",
       "  </thead>\n",
       "  <tbody>\n",
       "    <tr>\n",
       "      <th>1085</th>\n",
       "      <td>ham</td>\n",
       "      <td>For me the love should start with attraction.i...</td>\n",
       "    </tr>\n",
       "  </tbody>\n",
       "</table>\n",
       "</div>"
      ],
      "text/plain": [
       "     label                                            message\n",
       "1085   ham  For me the love should start with attraction.i..."
      ]
     },
     "execution_count": 29,
     "metadata": {},
     "output_type": "execute_result"
    }
   ],
   "source": [
    "# Check for message length outliers\n",
    "print(\"Longest message length:\", df['length'].max())\n",
    "print(\"Shortest message length:\", df['length'].min())\n",
    "df[df['length'] == df['length'].max()][[\"label\", \"message\"]]\n"
   ]
  },
  {
   "cell_type": "code",
   "execution_count": 31,
   "id": "29f85443-df5c-4815-8e95-e13fe8bcebbe",
   "metadata": {},
   "outputs": [
    {
     "name": "stdout",
     "output_type": "stream",
     "text": [
      "T-test p-value between ham and spam message lengths: 5.398167019068716e-193\n"
     ]
    }
   ],
   "source": [
    "# Statistical test on message length between spam and ham\n",
    "import scipy.stats as stats\n",
    "\n",
    "spam_lengths = df[df['label'] == 'spam']['length']\n",
    "ham_lengths = df[df['label'] == 'ham']['length']\n",
    "t_stat, p_val = stats.ttest_ind(spam_lengths, ham_lengths)\n",
    "print(\"T-test p-value between ham and spam message lengths:\", p_val)\n"
   ]
  },
  {
   "cell_type": "markdown",
   "id": "65c7c177-d57b-4d60-891d-139627196562",
   "metadata": {},
   "source": [
    "### Feature Extraction\n",
    "We convert the clean messages into a numerical format using `CountVectorizer`."
   ]
  },
  {
   "cell_type": "code",
   "execution_count": 12,
   "id": "3f428074-3954-427e-b2d1-ddbb857c2dfc",
   "metadata": {},
   "outputs": [
    {
     "name": "stdout",
     "output_type": "stream",
     "text": [
      "Shape of feature matrix: (5572, 8608)\n"
     ]
    }
   ],
   "source": [
    "from sklearn.feature_extraction.text import CountVectorizer\n",
    "\n",
    "# Create a CountVectorizer and transform the messages\n",
    "vectorizer = CountVectorizer()\n",
    "X = vectorizer.fit_transform(df[\"clean_message\"])\n",
    "\n",
    "# Labels: convert 'ham' to 0 and 'spam' to 1\n",
    "y = df[\"label\"].map({\"ham\": 0, \"spam\": 1})\n",
    "\n",
    "# Check the shape\n",
    "print(\"Shape of feature matrix:\", X.shape)\n"
   ]
  },
  {
   "cell_type": "markdown",
   "id": "c45c29f9-c07b-4b45-9600-9a230605f6bc",
   "metadata": {},
   "source": [
    "### Model 1: Logistic Regression\r\n",
    "We split the data into training and test sets. Then, we train a Logistic Regression model and evaluate its performance using accuracy, precision, recall, and F1-score.\r\n"
   ]
  },
  {
   "cell_type": "code",
   "execution_count": 14,
   "id": "9cb98f36-7fb9-4ab6-9315-7a2a554983a0",
   "metadata": {},
   "outputs": [
    {
     "name": "stdout",
     "output_type": "stream",
     "text": [
      "Accuracy: 0.9838565022421525\n",
      "Precision: 0.9851851851851852\n",
      "Recall: 0.8926174496644296\n",
      "F1 Score: 0.9366197183098591\n"
     ]
    }
   ],
   "source": [
    "from sklearn.model_selection import train_test_split\n",
    "from sklearn.linear_model import LogisticRegression\n",
    "from sklearn.metrics import accuracy_score, precision_score, recall_score, f1_score\n",
    "\n",
    "# Split the data into training and test sets\n",
    "X_train, X_test, y_train, y_test = train_test_split(X, y, test_size=0.2, random_state=42)\n",
    "\n",
    "# Train a logistic regression model\n",
    "model = LogisticRegression()\n",
    "model.fit(X_train, y_train)\n",
    "\n",
    "# Make predictions\n",
    "y_pred = model.predict(X_test)\n",
    "\n",
    "# Evaluate performance\n",
    "print(\"Accuracy:\", accuracy_score(y_test, y_pred))\n",
    "print(\"Precision:\", precision_score(y_test, y_pred))\n",
    "print(\"Recall:\", recall_score(y_test, y_pred))\n",
    "print(\"F1 Score:\", f1_score(y_test, y_pred))\n"
   ]
  },
  {
   "cell_type": "code",
   "execution_count": 33,
   "id": "05b4960d-2e00-4574-92ab-f9591e7028c8",
   "metadata": {},
   "outputs": [
    {
     "name": "stdout",
     "output_type": "stream",
     "text": [
      "Best parameters: {'C': 10, 'penalty': 'l2', 'solver': 'liblinear'}\n",
      "Best F1 Score from CV: 0.9191696417410092\n"
     ]
    }
   ],
   "source": [
    "# Hyperparameter tuning using GridSearchCV\n",
    "from sklearn.model_selection import GridSearchCV\n",
    "\n",
    "param_grid = {'C': [0.01, 0.1, 1, 10], 'penalty': ['l2'], 'solver': ['liblinear']}\n",
    "grid = GridSearchCV(LogisticRegression(), param_grid, cv=5, scoring='f1')\n",
    "grid.fit(X_train, y_train)\n",
    "\n",
    "print(\"Best parameters:\", grid.best_params_)\n",
    "print(\"Best F1 Score from CV:\", grid.best_score_)\n"
   ]
  },
  {
   "cell_type": "markdown",
   "id": "d2cfdd5b-7705-49d8-b194-04a216382369",
   "metadata": {},
   "source": [
    "### Model 2: Naive Bayes\r\n",
    "We train a Multinomial Naive Bayes classifier on the same data. This model is well-suited for text classification and often performs well on simple tasks.\r\n"
   ]
  },
  {
   "cell_type": "code",
   "execution_count": 16,
   "id": "512f599a-ac5d-48b3-b661-d0e8f388e387",
   "metadata": {},
   "outputs": [
    {
     "name": "stdout",
     "output_type": "stream",
     "text": [
      "Naive Bayes Results:\n",
      "Accuracy: 0.9775784753363229\n",
      "Precision: 0.8974358974358975\n",
      "Recall: 0.9395973154362416\n",
      "F1 Score: 0.9180327868852459\n"
     ]
    }
   ],
   "source": [
    "from sklearn.naive_bayes import MultinomialNB\n",
    "\n",
    "# Train model\n",
    "nb_model = MultinomialNB()\n",
    "nb_model.fit(X_train, y_train)\n",
    "\n",
    "# Predict\n",
    "nb_pred = nb_model.predict(X_test)\n",
    "\n",
    "# Evaluate\n",
    "print(\"Naive Bayes Results:\")\n",
    "print(\"Accuracy:\", accuracy_score(y_test, nb_pred))\n",
    "print(\"Precision:\", precision_score(y_test, nb_pred))\n",
    "print(\"Recall:\", recall_score(y_test, nb_pred))\n",
    "print(\"F1 Score:\", f1_score(y_test, nb_pred))\n"
   ]
  },
  {
   "cell_type": "markdown",
   "id": "5638e533-3fe8-4c90-abcb-13595e503396",
   "metadata": {},
   "source": [
    "### Model 3: Random Forest\r\n",
    "We train a Random Forest classifier. This is an ensemble method that builds multiple decision trees and combines their results to improve accuracy.\r\n"
   ]
  },
  {
   "cell_type": "code",
   "execution_count": 18,
   "id": "c36db612-747a-4fe4-9d36-485f601dfbfd",
   "metadata": {},
   "outputs": [
    {
     "name": "stdout",
     "output_type": "stream",
     "text": [
      "Random Forest Results:\n",
      "Accuracy: 0.9766816143497757\n",
      "Precision: 1.0\n",
      "Recall: 0.825503355704698\n",
      "F1 Score: 0.9044117647058824\n"
     ]
    }
   ],
   "source": [
    "from sklearn.ensemble import RandomForestClassifier\n",
    "\n",
    "# Train model\n",
    "rf_model = RandomForestClassifier(random_state=42)\n",
    "rf_model.fit(X_train, y_train)\n",
    "\n",
    "# Predict\n",
    "rf_pred = rf_model.predict(X_test)\n",
    "\n",
    "# Evaluate\n",
    "print(\"Random Forest Results:\")\n",
    "print(\"Accuracy:\", accuracy_score(y_test, rf_pred))\n",
    "print(\"Precision:\", precision_score(y_test, rf_pred))\n",
    "print(\"Recall:\", recall_score(y_test, rf_pred))\n",
    "print(\"F1 Score:\", f1_score(y_test, rf_pred))\n"
   ]
  },
  {
   "cell_type": "code",
   "execution_count": 35,
   "id": "f6cae5e3-05be-4021-8073-2f64eb232a40",
   "metadata": {},
   "outputs": [
    {
     "name": "stdout",
     "output_type": "stream",
     "text": [
      "     Word  Importance\n",
      "9     txt    0.034838\n",
      "8    call    0.029790\n",
      "7  mobile    0.024216\n",
      "6    free    0.023672\n",
      "5   claim    0.020118\n",
      "4      to    0.013286\n",
      "3     won    0.013017\n",
      "2   reply    0.012487\n",
      "1    stop    0.012120\n",
      "0    text    0.011289\n"
     ]
    }
   ],
   "source": [
    "# Show top 10 important features (words) from Random Forest\n",
    "import numpy as np\n",
    "import pandas as pd\n",
    "\n",
    "feature_names = vectorizer.get_feature_names_out()\n",
    "importances = rf_model.feature_importances_\n",
    "top_indices = np.argsort(importances)[-10:]\n",
    "\n",
    "top_features = pd.DataFrame({\n",
    "    'Word': feature_names[top_indices],\n",
    "    'Importance': importances[top_indices]\n",
    "}).sort_values(by=\"Importance\", ascending=False)\n",
    "\n",
    "print(top_features)\n"
   ]
  },
  {
   "cell_type": "markdown",
   "id": "6fb17010-da3d-4261-8577-5b693cf2bc91",
   "metadata": {},
   "source": [
    "### Final Model Comparison\r\n",
    "\r\n",
    "- **Logistic Regression**: Highest F1 Score (0.936), strong balance of precision and recall.\r\n",
    "- **Naive Bayes**: Fast and decent, but slightly lower precision.\r\n",
    "- **Random Forest**: Perfect precision (1.0) but lower recall, meaning more false negatives.\r\n",
    "\r\n",
    "**Conclusion**: Logistic Regression offers the best tradeoff for spam detection based on F1 score.\r\n"
   ]
  },
  {
   "cell_type": "markdown",
   "id": "d0534bbc-3efe-4664-b23f-f62fa56d7c7f",
   "metadata": {},
   "source": [
    "### Conclusion and Future Work\r\n",
    "- **Logistic Regression** achieved the highest F1 score, showing strong balance between precision and recall.\r\n",
    "- **Naive Bayes** was fast and performed well but had slightly lower precision.\r\n",
    "- **Random Forest** achieved perfect precision but had lower recall, indicating more false negatives.\r\n",
    "\r\n",
    "**Future Improvements:**\r\n",
    "- Use TF-IDF or word embeddings to enhance feature quality.\r\n",
    "- Apply techniques like SMOTE to address class imbalance.\r\n",
    "- Experiment with deep learning methods or model ensembling.\r\n",
    "\r\n",
    "This classifier could be integrated into an email or messaging service backend to automatically flag and filter spam messages in real-time.\r\n"
   ]
  },
  {
   "cell_type": "code",
   "execution_count": null,
   "id": "580de3c7-6c95-48dd-9bee-f55475944fbb",
   "metadata": {},
   "outputs": [],
   "source": []
  }
 ],
 "metadata": {
  "kernelspec": {
   "display_name": "Python 3 (ipykernel)",
   "language": "python",
   "name": "python3"
  },
  "language_info": {
   "codemirror_mode": {
    "name": "ipython",
    "version": 3
   },
   "file_extension": ".py",
   "mimetype": "text/x-python",
   "name": "python",
   "nbconvert_exporter": "python",
   "pygments_lexer": "ipython3",
   "version": "3.12.4"
  }
 },
 "nbformat": 4,
 "nbformat_minor": 5
}
